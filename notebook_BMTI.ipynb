{
 "cells": [
  {
   "cell_type": "markdown",
   "metadata": {},
   "source": [
    "# Tutorial: Density estimation via Binless Multidimensional Integration"
   ]
  },
  {
   "cell_type": "markdown",
   "metadata": {},
   "source": [
    "This tutorial showcases the performance of the BMTI method for density estimation."
   ]
  },
  {
   "cell_type": "code",
   "execution_count": 2,
   "metadata": {},
   "outputs": [
    {
     "ename": "ImportError",
     "evalue": "cannot import name 'cython_clustering' from 'dadapy._cython' (/home/francesco/Desktop/dssc/robavaria/my_dadapy/DADApy/dadapy/_cython/__init__.py)",
     "output_type": "error",
     "traceback": [
      "\u001b[0;31m---------------------------------------------------------------------------\u001b[0m",
      "\u001b[0;31mImportError\u001b[0m                               Traceback (most recent call last)",
      "Cell \u001b[0;32mIn[2], line 3\u001b[0m\n\u001b[1;32m      1\u001b[0m \u001b[38;5;28;01mimport\u001b[39;00m\u001b[38;5;250m \u001b[39m\u001b[38;5;21;01mnumpy\u001b[39;00m\u001b[38;5;250m \u001b[39m\u001b[38;5;28;01mas\u001b[39;00m\u001b[38;5;250m \u001b[39m\u001b[38;5;21;01mnp\u001b[39;00m\n\u001b[1;32m      2\u001b[0m \u001b[38;5;28;01mimport\u001b[39;00m\u001b[38;5;250m \u001b[39m\u001b[38;5;21;01mmatplotlib\u001b[39;00m\u001b[38;5;21;01m.\u001b[39;00m\u001b[38;5;21;01mpyplot\u001b[39;00m\u001b[38;5;250m \u001b[39m\u001b[38;5;28;01mas\u001b[39;00m\u001b[38;5;250m \u001b[39m\u001b[38;5;21;01mplt\u001b[39;00m\n\u001b[0;32m----> 3\u001b[0m \u001b[38;5;28;01mfrom\u001b[39;00m\u001b[38;5;250m \u001b[39m\u001b[38;5;21;01mdadapy\u001b[39;00m\u001b[38;5;250m \u001b[39m\u001b[38;5;28;01mimport\u001b[39;00m DensityAdvanced\n\u001b[1;32m      4\u001b[0m \u001b[38;5;28;01mfrom\u001b[39;00m\u001b[38;5;250m \u001b[39m\u001b[38;5;21;01mscipy\u001b[39;00m\u001b[38;5;21;01m.\u001b[39;00m\u001b[38;5;21;01mndimage\u001b[39;00m\u001b[38;5;21;01m.\u001b[39;00m\u001b[38;5;21;01mfilters\u001b[39;00m\u001b[38;5;250m \u001b[39m\u001b[38;5;28;01mimport\u001b[39;00m gaussian_filter1d\n\u001b[1;32m      6\u001b[0m get_ipython()\u001b[38;5;241m.\u001b[39mrun_line_magic(\u001b[38;5;124m'\u001b[39m\u001b[38;5;124mload_ext\u001b[39m\u001b[38;5;124m'\u001b[39m, \u001b[38;5;124m'\u001b[39m\u001b[38;5;124mautoreload\u001b[39m\u001b[38;5;124m'\u001b[39m)\n",
      "File \u001b[0;32m~/Desktop/dssc/robavaria/my_dadapy/DADApy/dadapy/__init__.py:5\u001b[0m\n\u001b[1;32m      3\u001b[0m \u001b[38;5;28;01mfrom\u001b[39;00m\u001b[38;5;250m \u001b[39m\u001b[38;5;21;01m.\u001b[39;00m\u001b[38;5;21;01m_utils\u001b[39;00m\u001b[38;5;21;01m.\u001b[39;00m\u001b[38;5;21;01mutils\u001b[39;00m\u001b[38;5;250m \u001b[39m\u001b[38;5;28;01mimport\u001b[39;00m \u001b[38;5;241m*\u001b[39m\n\u001b[1;32m      4\u001b[0m \u001b[38;5;28;01mfrom\u001b[39;00m\u001b[38;5;250m \u001b[39m\u001b[38;5;21;01m.\u001b[39;00m\u001b[38;5;21;01mbase\u001b[39;00m\u001b[38;5;250m \u001b[39m\u001b[38;5;28;01mimport\u001b[39;00m Base\n\u001b[0;32m----> 5\u001b[0m \u001b[38;5;28;01mfrom\u001b[39;00m\u001b[38;5;250m \u001b[39m\u001b[38;5;21;01m.\u001b[39;00m\u001b[38;5;21;01mclustering\u001b[39;00m\u001b[38;5;250m \u001b[39m\u001b[38;5;28;01mimport\u001b[39;00m Clustering\n\u001b[1;32m      6\u001b[0m \u001b[38;5;28;01mfrom\u001b[39;00m\u001b[38;5;250m \u001b[39m\u001b[38;5;21;01m.\u001b[39;00m\u001b[38;5;21;01mdata\u001b[39;00m\u001b[38;5;250m \u001b[39m\u001b[38;5;28;01mimport\u001b[39;00m Data\n\u001b[1;32m      7\u001b[0m \u001b[38;5;28;01mfrom\u001b[39;00m\u001b[38;5;250m \u001b[39m\u001b[38;5;21;01m.\u001b[39;00m\u001b[38;5;21;01mdata_sets\u001b[39;00m\u001b[38;5;250m \u001b[39m\u001b[38;5;28;01mimport\u001b[39;00m DataSets\n",
      "File \u001b[0;32m~/Desktop/dssc/robavaria/my_dadapy/DADApy/dadapy/clustering.py:29\u001b[0m\n\u001b[1;32m     26\u001b[0m \u001b[38;5;28;01mimport\u001b[39;00m\u001b[38;5;250m \u001b[39m\u001b[38;5;21;01mnumpy\u001b[39;00m\u001b[38;5;250m \u001b[39m\u001b[38;5;28;01mas\u001b[39;00m\u001b[38;5;250m \u001b[39m\u001b[38;5;21;01mnp\u001b[39;00m\n\u001b[1;32m     27\u001b[0m \u001b[38;5;28;01mimport\u001b[39;00m\u001b[38;5;250m \u001b[39m\u001b[38;5;21;01mscipy\u001b[39;00m\u001b[38;5;250m \u001b[39m\u001b[38;5;28;01mas\u001b[39;00m\u001b[38;5;250m \u001b[39m\u001b[38;5;21;01msp\u001b[39;00m\n\u001b[0;32m---> 29\u001b[0m \u001b[38;5;28;01mfrom\u001b[39;00m\u001b[38;5;250m \u001b[39m\u001b[38;5;21;01mdadapy\u001b[39;00m\u001b[38;5;21;01m.\u001b[39;00m\u001b[38;5;21;01m_cython\u001b[39;00m\u001b[38;5;250m \u001b[39m\u001b[38;5;28;01mimport\u001b[39;00m cython_clustering \u001b[38;5;28;01mas\u001b[39;00m cf\n\u001b[1;32m     30\u001b[0m \u001b[38;5;28;01mfrom\u001b[39;00m\u001b[38;5;250m \u001b[39m\u001b[38;5;21;01mdadapy\u001b[39;00m\u001b[38;5;21;01m.\u001b[39;00m\u001b[38;5;21;01m_cython\u001b[39;00m\u001b[38;5;250m \u001b[39m\u001b[38;5;28;01mimport\u001b[39;00m cython_clustering_v2 \u001b[38;5;28;01mas\u001b[39;00m cf2\n\u001b[1;32m     31\u001b[0m \u001b[38;5;28;01mfrom\u001b[39;00m\u001b[38;5;250m \u001b[39m\u001b[38;5;21;01mdadapy\u001b[39;00m\u001b[38;5;21;01m.\u001b[39;00m\u001b[38;5;21;01mdensity_estimation\u001b[39;00m\u001b[38;5;250m \u001b[39m\u001b[38;5;28;01mimport\u001b[39;00m DensityEstimation\n",
      "\u001b[0;31mImportError\u001b[0m: cannot import name 'cython_clustering' from 'dadapy._cython' (/home/francesco/Desktop/dssc/robavaria/my_dadapy/DADApy/dadapy/_cython/__init__.py)"
     ]
    }
   ],
   "source": [
    "import numpy as np\n",
    "import matplotlib.pyplot as plt\n",
    "from dadapy import DensityAdvanced\n",
    "from scipy.ndimage.filters import gaussian_filter1d\n",
    "\n",
    "%load_ext autoreload\n",
    "%autoreload 2\n",
    "%matplotlib inline"
   ]
  },
  {
   "cell_type": "code",
   "execution_count": null,
   "metadata": {},
   "outputs": [],
   "source": [
    "# Load a 6 dimensional dataset from the dataset folder\n",
    "X = np.genfromtxt(\"datasets/6d_double_well.txt\")\n",
    "true_log_den = np.genfromtxt(\"datasets/6d_double_well_logdensities_and_grads.txt\")[:, 0]\n",
    "\n",
    "# Subsample the dataset for a faster run\n",
    "every = 1\n",
    "X = X[2000::every]\n",
    "true_log_den = true_log_den[2000::every]\n",
    "\n",
    "print(X.shape)"
   ]
  },
  {
   "cell_type": "code",
   "execution_count": null,
   "metadata": {},
   "outputs": [],
   "source": [
    "d = DensityAdvanced(X, maxk=100, verbose=True)\n",
    "\n",
    "# copute the density using the kNN method\n",
    "d.compute_density_kNN(k=10)\n",
    "log_den_kNN = d.log_den\n",
    "\n",
    "# Compute the density using the kstarNN method\n",
    "d.compute_kstar()\n",
    "d.compute_density_kstarNN()\n",
    "log_den_kstarNN = d.log_den\n",
    "\n",
    "# Compute the density using the BMTI method\n",
    "d.compute_density_BMTI(solver = \"sp_cg\", delta_F_inv_cov = \"uncorr\", comp_log_den_err = \"LSDI\")\n",
    "log_den_BMTI = d.log_den"
   ]
  },
  {
   "cell_type": "code",
   "execution_count": null,
   "metadata": {},
   "outputs": [],
   "source": [
    "d.log_den_err"
   ]
  },
  {
   "cell_type": "code",
   "execution_count": null,
   "metadata": {},
   "outputs": [],
   "source": [
    "# remove the mean to both the true and estimated density\n",
    "true_log_den = true_log_den - np.mean(true_log_den)\n",
    "log_den_kNN = log_den_kNN - np.mean(log_den_kNN)\n",
    "log_den_kstarNN = log_den_kstarNN - np.mean(log_den_kstarNN)\n",
    "log_den_BMTI = log_den_BMTI - np.mean(log_den_BMTI)"
   ]
  },
  {
   "cell_type": "code",
   "execution_count": null,
   "metadata": {},
   "outputs": [],
   "source": [
    "# compute MSE errors\n",
    "MSE_kNN = np.mean((log_den_kNN - true_log_den) ** 2)\n",
    "MSE_kstarNN = np.mean((log_den_kstarNN - true_log_den) ** 2)\n",
    "MSE_BMTI = np.mean((log_den_BMTI - true_log_den) ** 2)\n",
    "\n",
    "print(\"MSE kNN: \", MSE_kNN)\n",
    "print(\"MSE kstarNN: \", MSE_kstarNN)\n",
    "print(\"MSE BMTI: \", MSE_BMTI)"
   ]
  },
  {
   "cell_type": "code",
   "execution_count": null,
   "metadata": {},
   "outputs": [],
   "source": [
    "# plot real density vs estimated density\n",
    "plt.figure(figsize=(5, 5))\n",
    "plt.scatter(true_log_den, log_den_kNN, marker=\".\", label=\"kNN\")\n",
    "plt.scatter(true_log_den, log_den_kstarNN, marker=\".\", label=\"kstarNN\")\n",
    "plt.scatter(true_log_den, log_den_BMTI, marker=\".\", label=\"BMTI\")\n",
    "plt.plot(true_log_den, true_log_den, \"k--\")\n",
    "plt.xlabel(\"True log density\")\n",
    "plt.ylabel(\"Estimated log density\")\n",
    "plt.legend()\n",
    "plt.tight_layout()"
   ]
  },
  {
   "cell_type": "code",
   "execution_count": null,
   "metadata": {},
   "outputs": [],
   "source": [
    "# compute Mean Absolute Errors (MAEs)\n",
    "MAE_kNN = np.mean(np.abs(log_den_kNN - true_log_den))\n",
    "MAE_kstarNN = np.mean(np.abs(log_den_kstarNN - true_log_den))\n",
    "MAE_BMTI = np.mean(np.abs(log_den_BMTI - true_log_den))\n",
    "\n",
    "print(\"MAE kNN: \", MAE_kNN)\n",
    "print(\"MAE kstarNN: \", MAE_kstarNN)\n",
    "print(\"MAE BMTI: \", MAE_BMTI)"
   ]
  },
  {
   "cell_type": "code",
   "execution_count": null,
   "metadata": {},
   "outputs": [],
   "source": [
    "# sort indices in order of increasing true log-density\n",
    "sortlden = true_log_den.argsort()\n",
    "\n",
    "# plot MAE as a function of true log-density\n",
    "plt.figure(figsize=(8, 5))\n",
    "\n",
    "plt.plot(true_log_den[sortlden],gaussian_filter1d(np.abs((log_den_kNN-true_log_den)[sortlden]),sigma=200),label=\"kNN\")\n",
    "plt.plot(true_log_den[sortlden],gaussian_filter1d(np.abs((log_den_kstarNN-true_log_den)[sortlden]),sigma=200),label=\"kstarNN\")\n",
    "plt.plot(true_log_den[sortlden],gaussian_filter1d(np.abs((log_den_BMTI-true_log_den)[sortlden]),sigma=200),label=\"BMTI\")\n",
    "\n",
    "\n",
    "plt.xlabel(\"True log density\")\n",
    "plt.ylabel(\"Smoothed MAE\")\n",
    "plt.legend()\n",
    "plt.tight_layout()"
   ]
  },
  {
   "cell_type": "code",
   "execution_count": null,
   "metadata": {},
   "outputs": [],
   "source": []
  }
 ],
 "metadata": {
  "kernelspec": {
   "display_name": "Python 3 (ipykernel)",
   "language": "python",
   "name": "python3"
  },
  "language_info": {
   "codemirror_mode": {
    "name": "ipython",
    "version": 3
   },
   "file_extension": ".py",
   "mimetype": "text/x-python",
   "name": "python",
   "nbconvert_exporter": "python",
   "pygments_lexer": "ipython3",
   "version": "3.12.7"
  }
 },
 "nbformat": 4,
 "nbformat_minor": 4
}
